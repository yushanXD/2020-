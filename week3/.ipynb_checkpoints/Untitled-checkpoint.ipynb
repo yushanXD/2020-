{
 "cells": [
  {
   "cell_type": "code",
   "execution_count": null,
   "metadata": {},
   "outputs": [],
   "source": [
    "import numpy as np\n",
    "import scipy as sp\n",
    "import matplotlib.mlab as mlab\n",
    "import keras.initializers as k_init\n",
    "import matplotlib.pyplot as plt \n",
    "from sklearn.model_selection import train_test_split\n",
    "from sklearn import metrics \n",
    "import tensorflow as tf\n",
    "import keras\n",
    "from keras.models import Model\n",
    "from keras.callbacks import ModelCheckpoint,TensorBoard\n",
    "import os"
   ]
  },
  {
   "cell_type": "code",
   "execution_count": null,
   "metadata": {},
   "outputs": [],
   "source": [
    "from keras.models import load_model \n",
    "from keras import layers,regularizers,models,backend,utils,optimizers\n",
    "from cbhg import CBHG,Highway\n",
    "\n",
    "ppgs_file = os.listdir('../testset')\n",
    "total_num = len(ppgs_file)\n",
    "ppgs = np.zeros([total_num,665,256],dtype=np.float32)\n",
    "\n",
    "for i in range(total_num):\n",
    "    p = np.load('../testset/'+ppgs_file[i])\n",
    "    if p.shape[0] > 665:\n",
    "        ppgs[i] = p[:665]\n",
    "    else:\n",
    "        ppgs[i] = np.pad(p,((0,665-p.shape[0]),(0,0)),'constant')\n",
    "\n",
    "model = load_model('CBHGweights.best.h5',custom_objects={'Highway': Highway})\n",
    "pre_y = model.predict(ppgs)\n",
    "print(pre_y)"
   ]
  }
 ],
 "metadata": {
  "kernelspec": {
   "display_name": "Python 3",
   "language": "python",
   "name": "python3"
  }
 },
 "nbformat": 4,
 "nbformat_minor": 4
}
